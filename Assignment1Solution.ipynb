{
  "nbformat": 4,
  "nbformat_minor": 0,
  "metadata": {
    "colab": {
      "provenance": []
    },
    "kernelspec": {
      "name": "python3",
      "display_name": "Python 3"
    },
    "language_info": {
      "name": "python"
    }
  },
  "cells": [
    {
      "cell_type": "markdown",
      "source": [
        "# PYTHON BASIC QUESTIONS:\n"
      ],
      "metadata": {
        "id": "w8_8KpEwv8WU"
      }
    },
    {
      "cell_type": "markdown",
      "source": [
        "1.What is python and why it is popular?\n",
        "- python is a interpreted programming language which is known for it's simple syntax and readability.It is popular because it is easy to learn and also for it's large standard library.\n"
      ],
      "metadata": {
        "id": "2ADykYufwPQI"
      }
    },
    {
      "cell_type": "markdown",
      "source": [
        "2. What is an interpreter in Python?\n",
        "- An interpreter is a program that executes Python code line by line. It reads the code, translates it to machine language, and runs it without compiling the whole program."
      ],
      "metadata": {
        "id": "0ppZvRN7zOkT"
      }
    },
    {
      "cell_type": "markdown",
      "source": [],
      "metadata": {
        "id": "4Ww-ouipzCaf"
      }
    },
    {
      "cell_type": "markdown",
      "source": [
        "3.What are pre-defined keywords in Python?\n",
        "- Pre-defined keywords are reserved words that have special meaning and are part of the python language's syntax.For ex.if,else,True,break etc."
      ],
      "metadata": {
        "id": "MXw6ydpozmvM"
      }
    },
    {
      "cell_type": "markdown",
      "source": [
        "4.Can keywords be used as variable names?\n",
        "- Keywords can't be used as variable names as it will throw an error."
      ],
      "metadata": {
        "id": "V6JQFcW40CXR"
      }
    },
    {
      "cell_type": "markdown",
      "source": [
        "5.What is mutability in Python?\n",
        "- mutability means objects value can be changed after it has been created."
      ],
      "metadata": {
        "id": "DHEpXhav0Ytq"
      }
    },
    {
      "cell_type": "markdown",
      "source": [
        "6. Why are lists mutable, but tuples are immutable ?\n",
        "- Lists are designed to store and update a collection of items whereas Tuples are fixed collections of items, used to protect data from accidental modification.\n",
        "\n",
        "\n"
      ],
      "metadata": {
        "id": "Rlnb8DiY0uSo"
      }
    },
    {
      "cell_type": "markdown",
      "source": [
        "7. What is the difference between “==” and “is” operators in Python?\n",
        "- \"==\" is equality operator whereas \"is\" a identity operator,equality refers to the same value of two different objects whereas identity refers that two different variables refer to the same object in memory."
      ],
      "metadata": {
        "id": "_CjTD6BO1TKs"
      }
    },
    {
      "cell_type": "markdown",
      "source": [
        "8.What are logical operators in Python?\n",
        "- Logical operators are used to combine conditional statements,these are of three types logical and ,logical or and logical not.\n"
      ],
      "metadata": {
        "id": "KnlvFZvQ2K1r"
      }
    },
    {
      "cell_type": "markdown",
      "source": [
        "9.What is type casting in Python?\n",
        "- Type casting means converting one data type into another using in built functions."
      ],
      "metadata": {
        "id": "VhaF94772pCC"
      }
    },
    {
      "cell_type": "markdown",
      "source": [
        "10. What is the difference between implicit and explicit type casting ?\n",
        "- implicit type casting is done by python automatically whereas explicit typecasting is done by the programmer manually.Risk of error is low in case of implicit and high in case of explicit type casting."
      ],
      "metadata": {
        "id": "nR-QpLnp7tO6"
      }
    },
    {
      "cell_type": "markdown",
      "source": [
        "11. What is the purpose of conditional statements in Python?\n",
        "- Conditional statements are used to perform different actions based on different conditions and allow our program to make decisions.\n",
        "\n"
      ],
      "metadata": {
        "id": "803Wkpu98qM7"
      }
    },
    {
      "cell_type": "markdown",
      "source": [
        "12. How does the elif statement work?\n",
        "- The elif short for else if,this statement is used to check multiple conditions one by one after an if.\n",
        "\n"
      ],
      "metadata": {
        "id": "VI5ePUDf9AZB"
      }
    },
    {
      "cell_type": "markdown",
      "source": [
        "13. What is the difference between for and while loops?\n",
        "- in for loop we know how many times we have to loop and in while loop we don't know how many times we have to loop.Acounter controls for loop and whereas while loop is controlled by a condition."
      ],
      "metadata": {
        "id": "PfLeTHhu9ZGK"
      }
    },
    {
      "cell_type": "markdown",
      "source": [
        "14.Describe a scenario where a while loop is more suitable than a for loop?\n",
        "- command = \" \"\n",
        "while command != \"exit\":\n",
        "    command = input(\"Enter command (type 'exit' to quit): \")\n",
        "    print(\"You typed:\", command)\n"
      ],
      "metadata": {
        "id": "4qCt_vzb9_RF"
      }
    },
    {
      "cell_type": "markdown",
      "source": [
        "#PRACTICAL QUESTIONS"
      ],
      "metadata": {
        "id": "jBMb1zQm-oQZ"
      }
    },
    {
      "cell_type": "code",
      "source": [
        "#1.Write a Python program to print \"Hello, World!?\n",
        "print(\"Hello,World!\")"
      ],
      "metadata": {
        "id": "_9ix35EB-wF7",
        "colab": {
          "base_uri": "https://localhost:8080/"
        },
        "outputId": "cee17efb-fdd5-4bf2-c004-4a4b515e1c1c"
      },
      "execution_count": 1,
      "outputs": [
        {
          "output_type": "stream",
          "name": "stdout",
          "text": [
            "Hello,World!\n"
          ]
        }
      ]
    },
    {
      "cell_type": "code",
      "execution_count": 2,
      "metadata": {
        "id": "-hTtAxnFcstr",
        "colab": {
          "base_uri": "https://localhost:8080/"
        },
        "outputId": "7627a4f7-c96b-4685-c355-1a8647dfab20"
      },
      "outputs": [
        {
          "output_type": "stream",
          "name": "stdout",
          "text": [
            "Name: Sameer Monga\n",
            "Age: 19\n"
          ]
        }
      ],
      "source": [
        "#2.Write a Python program that displays your name and age?\n",
        "name = \"Sameer Monga\"\n",
        "age = 19\n",
        "print(\"Name:\", name)\n",
        "print(\"Age:\", age)\n",
        "\n",
        "\n"
      ]
    },
    {
      "cell_type": "code",
      "source": [
        "#3 Write code to print all the pre-defined keywords in Python using the keyword library?\n",
        "import keyword\n",
        "print(\"List of Python keywords:\")\n",
        "print(keyword.kwlist)"
      ],
      "metadata": {
        "colab": {
          "base_uri": "https://localhost:8080/"
        },
        "id": "sijavNjAhN4E",
        "outputId": "fb321fe5-e30c-4c77-eed0-f33cb0b8c70a"
      },
      "execution_count": 3,
      "outputs": [
        {
          "output_type": "stream",
          "name": "stdout",
          "text": [
            "List of Python keywords:\n",
            "['False', 'None', 'True', 'and', 'as', 'assert', 'async', 'await', 'break', 'class', 'continue', 'def', 'del', 'elif', 'else', 'except', 'finally', 'for', 'from', 'global', 'if', 'import', 'in', 'is', 'lambda', 'nonlocal', 'not', 'or', 'pass', 'raise', 'return', 'try', 'while', 'with', 'yield']\n"
          ]
        }
      ]
    },
    {
      "cell_type": "code",
      "source": [
        "#4. Write a program that checks if a given word is a Python keyword?\n",
        "import keyword\n",
        "\n",
        "word = input(\"Enter a word: \")\n",
        "\n",
        "if keyword.iskeyword(word):\n",
        "    print(f\"'{word}' is a Python keyword.\")\n",
        "else:\n",
        "    print(f\"'{word}' is not a Python keyword.\")\n"
      ],
      "metadata": {
        "colab": {
          "base_uri": "https://localhost:8080/"
        },
        "id": "0ybC9ldThlPY",
        "outputId": "90f14162-781c-47fe-d348-99e297a1c4a8"
      },
      "execution_count": 4,
      "outputs": [
        {
          "output_type": "stream",
          "name": "stdout",
          "text": [
            "Enter a word: if\n",
            "'if' is a Python keyword.\n"
          ]
        }
      ]
    },
    {
      "cell_type": "code",
      "source": [
        "\"\"\"5.Create a list and tuple in Python, and demonstrate how attempting to change an element works differently\n",
        "for each?\"\"\"\n",
        "my_list = [10, 20, 30]\n",
        "print(\"Original list:\", my_list)\n",
        "my_list[1] = 99\n",
        "print(\"Modified list:\", my_list)\n",
        "my_tuple = (10, 20, 30)\n",
        "print(\"\\nOriginal tuple:\", my_tuple)\n",
        "try:\n",
        "    my_tuple[1] = 99\n",
        "except TypeError as e:\n",
        "    print(\"Error when trying to modify tuple:\", e)"
      ],
      "metadata": {
        "colab": {
          "base_uri": "https://localhost:8080/"
        },
        "id": "ICr6UkWXiHxf",
        "outputId": "9b672cca-1a7c-47a9-cd6b-5d1d92c42327"
      },
      "execution_count": 5,
      "outputs": [
        {
          "output_type": "stream",
          "name": "stdout",
          "text": [
            "Original list: [10, 20, 30]\n",
            "Modified list: [10, 99, 30]\n",
            "\n",
            "Original tuple: (10, 20, 30)\n",
            "Error when trying to modify tuple: 'tuple' object does not support item assignment\n"
          ]
        }
      ]
    },
    {
      "cell_type": "code",
      "source": [
        "#6. Write a function to demonstrate the behavior of mutable and immutable arguments?\n",
        "def modify_immutable(x):\n",
        "    print(\"Original x:\", x)\n",
        "    x = x + 10\n",
        "    print(\"Modified x inside function:\", x)\n",
        "def modify_mutable(my_list):\n",
        "    print(\"Original list:\", my_list)\n",
        "    my_list.append(100)\n",
        "    print(\"Modified list inside function:\", my_list)\n",
        "num = 5\n",
        "modify_immutable(num)\n",
        "print(\"Value of num after function call:\", num)\n",
        "\n",
        "print(\"\\n---\\n\")\n",
        "lst = [1, 2, 3]\n",
        "modify_mutable(lst)\n",
        "print(\"Value of list after function call:\", lst)\n",
        "\n"
      ],
      "metadata": {
        "colab": {
          "base_uri": "https://localhost:8080/"
        },
        "id": "b9Hm01Dui8_a",
        "outputId": "f33970bf-c754-4ca6-b19b-ee3edf8eba80"
      },
      "execution_count": 6,
      "outputs": [
        {
          "output_type": "stream",
          "name": "stdout",
          "text": [
            "Original x: 5\n",
            "Modified x inside function: 15\n",
            "Value of num after function call: 5\n",
            "\n",
            "---\n",
            "\n",
            "Original list: [1, 2, 3]\n",
            "Modified list inside function: [1, 2, 3, 100]\n",
            "Value of list after function call: [1, 2, 3, 100]\n"
          ]
        }
      ]
    },
    {
      "cell_type": "code",
      "source": [
        "#7. Write a program that performs basic arithmetic operations on two user-input numbers?\n",
        "a = float(input(\"Enter first number: \"))\n",
        "b = float(input(\"Enter second number: \"))\n",
        "print(\"Addition:\", a + b)\n",
        "print(\"Subtraction:\", a - b)\n",
        "print(\"Multiplication:\", a * b)\n",
        "print(\"Division:\", a / b if b != 0 else \"Cannot divide by zero\")\n",
        "print(\"Modulus:\", a % b if b != 0 else \"Cannot perform modulus by zero\")\n",
        "\n"
      ],
      "metadata": {
        "colab": {
          "base_uri": "https://localhost:8080/"
        },
        "id": "R83qzZ-WjpEe",
        "outputId": "936881e8-852c-4b9f-f690-65f5786d013c"
      },
      "execution_count": 7,
      "outputs": [
        {
          "output_type": "stream",
          "name": "stdout",
          "text": [
            "Enter first number: 4.5\n",
            "Enter second number: 4\n",
            "Addition: 8.5\n",
            "Subtraction: 0.5\n",
            "Multiplication: 18.0\n",
            "Division: 1.125\n",
            "Modulus: 0.5\n"
          ]
        }
      ]
    },
    {
      "cell_type": "code",
      "source": [
        "#8.Write a program to demonstrate the use of logical operators?\n",
        "a = int(input(\"Enter a number: \"))\n",
        "\n",
        "print(\"Is the number between 10 and 20 (inclusive)?\", a >= 10 and a <= 20)\n",
        "print(\"Is the number less than 10 or greater than 20?\", a < 10 or a > 20)\n",
        "print(\"Is it NOT true that the number is greater than 15?\", not (a > 15))"
      ],
      "metadata": {
        "colab": {
          "base_uri": "https://localhost:8080/"
        },
        "id": "LplY1TIEj1ZV",
        "outputId": "2235dbf4-ac45-4788-90ca-0d6c2a428b4a"
      },
      "execution_count": 8,
      "outputs": [
        {
          "output_type": "stream",
          "name": "stdout",
          "text": [
            "Enter a number: 15\n",
            "Is the number between 10 and 20 (inclusive)? True\n",
            "Is the number less than 10 or greater than 20? False\n",
            "Is it NOT true that the number is greater than 15? True\n"
          ]
        }
      ]
    },
    {
      "cell_type": "markdown",
      "source": [],
      "metadata": {
        "id": "Q8-unIKUkegr"
      }
    },
    {
      "cell_type": "code",
      "source": [
        "#9. Write a Python program to convert user input from string to integer, float, and boolean types?\n",
        "user_input = input(\"Enter a value: \")\n",
        "\n",
        "# Convert to integer\n",
        "try:\n",
        "    int_value = int(user_input)\n",
        "    print(\"Integer value:\", int_value)\n",
        "except ValueError:\n",
        "    print(\"Cannot convert to integer.\")\n",
        "\n",
        "# Convert to float\n",
        "try:\n",
        "    float_value = float(user_input)\n",
        "    print(\"Float value:\", float_value)\n",
        "except ValueError:\n",
        "    print(\"Cannot convert to float.\")\n",
        "\n",
        "# Convert to boolean\n",
        "# Note: Any non-empty string except \"0\" evaluates to True\n",
        "bool_value = bool(user_input)\n",
        "print(\"Boolean value:\", bool_value)"
      ],
      "metadata": {
        "colab": {
          "base_uri": "https://localhost:8080/"
        },
        "id": "KBQd6LWfkUSB",
        "outputId": "2d1cd05e-0641-4bc1-d0dc-79d38c4dae0e"
      },
      "execution_count": 9,
      "outputs": [
        {
          "output_type": "stream",
          "name": "stdout",
          "text": [
            "Enter a value: sameer monga\n",
            "Cannot convert to integer.\n",
            "Cannot convert to float.\n",
            "Boolean value: True\n"
          ]
        }
      ]
    },
    {
      "cell_type": "code",
      "source": [
        "#10. Write code to demonstrate type casting with list elements?\n",
        "str_list = [\"10\", \"20\", \"30\", \"0\", \"hello\", \"\"]\n",
        "\n",
        "print(\"Original list:\", str_list)\n",
        "int_list = []\n",
        "for item in str_list:\n",
        "    try:\n",
        "        int_list.append(int(item))\n",
        "    except ValueError:\n",
        "        int_list.append(\"Invalid\")\n",
        "print(\"Integer casted list:\", int_list)\n",
        "float_list = []\n",
        "for item in str_list:\n",
        "    try:\n",
        "        float_list.append(float(item))\n",
        "    except ValueError:\n",
        "        float_list.append(\"Invalid\")\n",
        "print(\"Float casted list:\", float_list)\n",
        "bool_list = [bool(item) for item in str_list]\n",
        "print(\"Boolean casted list:\", bool_list)"
      ],
      "metadata": {
        "colab": {
          "base_uri": "https://localhost:8080/"
        },
        "id": "6R_1DvwCkmn_",
        "outputId": "5323fa3d-3a67-4b2c-e12a-1705f13e635e"
      },
      "execution_count": 10,
      "outputs": [
        {
          "output_type": "stream",
          "name": "stdout",
          "text": [
            "Original list: ['10', '20', '30', '0', 'hello', '']\n",
            "Integer casted list: [10, 20, 30, 0, 'Invalid', 'Invalid']\n",
            "Float casted list: [10.0, 20.0, 30.0, 0.0, 'Invalid', 'Invalid']\n",
            "Boolean casted list: [True, True, True, True, True, False]\n"
          ]
        }
      ]
    },
    {
      "cell_type": "code",
      "source": [
        "#11.Write a program that checks if a number is positive, negative, or zero?\n",
        "num = float(input(\"Enter a number: \"))\n",
        "if num > 0:\n",
        "    print(\"The number is positive.\")\n",
        "elif num < 0:\n",
        "    print(\"The number is negative.\")\n",
        "else:\n",
        "    print(\"The number is zero.\")"
      ],
      "metadata": {
        "colab": {
          "base_uri": "https://localhost:8080/"
        },
        "id": "Cgf_qFgglBHY",
        "outputId": "fd65d5c6-c0c4-4836-d905-8cba036299be"
      },
      "execution_count": 11,
      "outputs": [
        {
          "output_type": "stream",
          "name": "stdout",
          "text": [
            "Enter a number: -8\n",
            "The number is negative.\n"
          ]
        }
      ]
    },
    {
      "cell_type": "code",
      "source": [
        "#12.Write a for loop to print numbers from 1 to 10?\n",
        "for i in range(1, 11):\n",
        "    print(i)\n",
        "\n"
      ],
      "metadata": {
        "colab": {
          "base_uri": "https://localhost:8080/"
        },
        "id": "luMpoQmAlMre",
        "outputId": "73231da2-d651-495b-9fbe-38dfe9739a5e"
      },
      "execution_count": 12,
      "outputs": [
        {
          "output_type": "stream",
          "name": "stdout",
          "text": [
            "1\n",
            "2\n",
            "3\n",
            "4\n",
            "5\n",
            "6\n",
            "7\n",
            "8\n",
            "9\n",
            "10\n"
          ]
        }
      ]
    },
    {
      "cell_type": "code",
      "source": [
        "#13.Write a Python program to find the sum of all even numbers between 1 and 50?\n",
        "even_sum = 0\n",
        "for num in range(1, 51):\n",
        "    if num % 2 == 0:\n",
        "        even_sum += num\n",
        "\n",
        "print(\"Sum of even numbers between 1 and 50 is:\", even_sum)"
      ],
      "metadata": {
        "colab": {
          "base_uri": "https://localhost:8080/"
        },
        "id": "wUdiwhoRlYqs",
        "outputId": "1a2f06b9-af4a-426c-ee9f-affe864701e5"
      },
      "execution_count": 13,
      "outputs": [
        {
          "output_type": "stream",
          "name": "stdout",
          "text": [
            "Sum of even numbers between 1 and 50 is: 650\n"
          ]
        }
      ]
    },
    {
      "cell_type": "code",
      "source": [
        "#14. Write a program to reverse a string using a while loop?\n",
        "original_string = input(\"Enter a string: \")\n",
        "reversed_string = \"\"\n",
        "index = len(original_string) - 1\n",
        "while index >= 0:\n",
        "    reversed_string += original_string[index]\n",
        "    index -= 1\n",
        "print(\"Reversed string:\", reversed_string)"
      ],
      "metadata": {
        "colab": {
          "base_uri": "https://localhost:8080/"
        },
        "id": "3rYfiMatlyzu",
        "outputId": "580877e1-c895-494a-84f3-d76e3b3e0035"
      },
      "execution_count": 14,
      "outputs": [
        {
          "output_type": "stream",
          "name": "stdout",
          "text": [
            "Enter a string: sameer\n",
            "Reversed string: reemas\n"
          ]
        }
      ]
    },
    {
      "cell_type": "code",
      "source": [
        "#15.Write a Python program to calculate the factorial of a number provided by the user using a while loop?\n",
        "num = int(input(\"Enter a non-negative integer: \"))\n",
        "if num < 0:\n",
        "    print(\"Factorial is not defined for negative numbers.\")\n",
        "else:\n",
        "    factorial = 1\n",
        "    i = 1\n",
        "\n",
        "    while i <= num:\n",
        "        factorial *= i\n",
        "        i += 1\n",
        "\n",
        "    print(f\"The factorial of {num} is: {factorial}\")\n"
      ],
      "metadata": {
        "colab": {
          "base_uri": "https://localhost:8080/"
        },
        "id": "pdyODG5LmDJG",
        "outputId": "e25c5f69-12b6-48fc-ada9-a9903bc11aaf"
      },
      "execution_count": 15,
      "outputs": [
        {
          "output_type": "stream",
          "name": "stdout",
          "text": [
            "Enter a non-negative integer: 12\n",
            "The factorial of 12 is: 479001600\n"
          ]
        }
      ]
    },
    {
      "cell_type": "code",
      "source": [],
      "metadata": {
        "id": "fehuodFvmTvA"
      },
      "execution_count": null,
      "outputs": []
    }
  ]
}